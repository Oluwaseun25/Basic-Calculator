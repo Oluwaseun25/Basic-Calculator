{
 "cells": [
  {
   "cell_type": "markdown",
   "id": "a32ebbc3",
   "metadata": {},
   "source": [
    "# Checkpoint Objective\n",
    "Create a calculator program that allows the user to perform mathematical operations on two numbers using basic functions and a dictionary to store the operations. The program should also have the ability to continue calculations with the result of previous calculations."
   ]
  },
  {
   "cell_type": "code",
   "execution_count": null,
   "id": "e70da571",
   "metadata": {},
   "outputs": [
    {
     "name": "stdout",
     "output_type": "stream",
     "text": [
      "Input first number: 2\n",
      "+\n",
      "-\n",
      "*\n",
      "/\n",
      "Select an operation symbol: +\n",
      "Input second number: 2\n",
      "2.0 + 2.0 = 4.0\n"
     ]
    }
   ],
   "source": [
    "def add(a,b):\n",
    "    return a + b\n",
    "\n",
    "def subtract(a,b):\n",
    "    return a - b\n",
    "\n",
    "def multiply(a,b):\n",
    "    return a * b\n",
    "\n",
    "def divide(a,b):\n",
    "    if b != 0:\n",
    "        return a / b\n",
    "    else:\n",
    "        print(\"Error: division by zero\")\n",
    "\n",
    "operations = {\n",
    "    '+': add,\n",
    "    '-': subtract,\n",
    "    '*': multiply,\n",
    "    '/': divide\n",
    "}\n",
    "\n",
    "def calculator():\n",
    "    num1 = float(input(\"Input first number: \"))\n",
    "    \n",
    "    for i in operations:\n",
    "        print(i)\n",
    "        \n",
    "    should_continue = True\n",
    "        \n",
    "    while should_continue:\n",
    "        operation_symbol = input(\"Select an operation symbol: \")\n",
    "    \n",
    "        num2 = float(input(\"Input second number: \"))\n",
    "    \n",
    "        if operation_symbol in operations:\n",
    "            calculated_function = operations[operation_symbol]\n",
    "            answer = calculated_function(num1, num2)\n",
    "            print(f\"{num1} {operation_symbol} {num2} = {answer}\")\n",
    "        else:\n",
    "            print(\"Invalid symbol: Choose between + , - , * , / \")\n",
    "            continue\n",
    "        \n",
    "        user_choice = input(f\"Do you wish to continue with {answer} as the first number? (yes/no): \")\n",
    "    \n",
    "        if user_choice.lower() != \"yes\":\n",
    "            should_continue = False\n",
    "        else:\n",
    "            num1 = answer\n",
    "\n",
    "# Start the calculator\n",
    "calculator()\n"
   ]
  },
  {
   "cell_type": "code",
   "execution_count": null,
   "id": "8ced9e5c",
   "metadata": {},
   "outputs": [],
   "source": []
  }
 ],
 "metadata": {
  "kernelspec": {
   "display_name": "Python 3 (ipykernel)",
   "language": "python",
   "name": "python3"
  },
  "language_info": {
   "codemirror_mode": {
    "name": "ipython",
    "version": 3
   },
   "file_extension": ".py",
   "mimetype": "text/x-python",
   "name": "python",
   "nbconvert_exporter": "python",
   "pygments_lexer": "ipython3",
   "version": "3.10.13"
  }
 },
 "nbformat": 4,
 "nbformat_minor": 5
}
